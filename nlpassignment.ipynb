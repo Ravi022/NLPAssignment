{
 "cells": [
  {
   "cell_type": "code",
   "execution_count": 2,
   "id": "e7025168",
   "metadata": {},
   "outputs": [
    {
     "name": "stderr",
     "output_type": "stream",
     "text": [
      "[nltk_data] Downloading package punkt to /Users/lockyer/nltk_data...\n",
      "[nltk_data]   Package punkt is already up-to-date!\n",
      "[nltk_data] Downloading package stopwords to\n",
      "[nltk_data]     /Users/lockyer/nltk_data...\n",
      "[nltk_data]   Package stopwords is already up-to-date!\n"
     ]
    }
   ],
   "source": [
    "import os\n",
    "import tarfile\n",
    "import urllib.request\n",
    "from sklearn.model_selection import train_test_split\n",
    "from sklearn.feature_extraction.text import CountVectorizer\n",
    "from sklearn.naive_bayes import MultinomialNB\n",
    "from sklearn.metrics import confusion_matrix, precision_score, recall_score, f1_score\n",
    "import matplotlib.pyplot as plt\n",
    "import seaborn as sns\n",
    "import nltk\n",
    "import string\n",
    "from nltk.corpus import stopwords\n",
    "from nltk.tokenize import word_tokenize\n",
    "from nltk.stem import PorterStemmer\n",
    "\n",
    "# Download required NLTK datasets (run this only once)\n",
    "nltk.download('punkt')\n",
    "nltk.download('stopwords')\n",
    "\n",
    "# Download and Extract Data\n",
    "data_url = 'https://www.cs.cornell.edu/people/pabo/movie-review-data/rt-polaritydata.tar.gz'\n",
    "data_path = 'rt-polaritydata.tar.gz'\n",
    "extracted_path = 'rt-polaritydata'\n",
    "file_path='rt-polaritydata/rt-polaritydata'"
   ]
  },
  {
   "cell_type": "code",
   "execution_count": 3,
   "id": "0ce04820",
   "metadata": {},
   "outputs": [],
   "source": [
    "if not os.path.exists(extracted_path):\n",
    "    # Download the dataset\n",
    "    urllib.request.urlretrieve(data_url, data_path)\n",
    "    \n",
    "    # Extract the tar.gz file\n",
    "    with tarfile.open(data_path, \"r:gz\") as tar:\n",
    "        tar.extractall(extracted_path)"
   ]
  },
  {
   "cell_type": "code",
   "execution_count": 4,
   "id": "4ea023c2",
   "metadata": {},
   "outputs": [],
   "source": [
    "# Step 2: Load the Data\n",
    "# def load_data(positive_file, negative_file):\n",
    "\n",
    "#     with open(positive_file, 'r', encoding='latin-1') as pos_file:\n",
    "#         positive_snippets = pos_file.readlines()\n",
    "\n",
    "#     with open(negative_file, 'r', encoding='latin-1') as neg_file:\n",
    "#         negative_snippets = neg_file.readlines()\n",
    "#     return positive_snippets, negative_snippets\n",
    "\n",
    "    \n",
    "# positive_file = os.path.join(file_path, 'rt-polarity.pos')\n",
    "# negative_file = os.path.join(file_path, 'rt-polarity.neg')\n",
    "\n",
    "# positive_snippets, negative_snippets = load_data(positive_file, negative_file)"
   ]
  },
  {
   "cell_type": "code",
   "execution_count": 5,
   "id": "0dc07e00",
   "metadata": {},
   "outputs": [],
   "source": [
    "\n",
    "\n",
    "# Step 1: Text Preprocessing Function\n",
    "def preprocess_text(text):\n",
    "    # Lowercase the text\n",
    "    text = text.lower()\n",
    "    \n",
    "    # Tokenize the text into words\n",
    "    tokens = word_tokenize(text)\n",
    "    \n",
    "    # Remove punctuation\n",
    "    tokens = [word for word in tokens if word not in string.punctuation]\n",
    "    \n",
    "    # Remove stopwords\n",
    "    stop_words = set(stopwords.words('english'))\n",
    "    tokens = [word for word in tokens if word not in stop_words]\n",
    "    \n",
    "    # Stemming (you could use lemmatization instead)\n",
    "    stemmer = PorterStemmer()\n",
    "    tokens = [stemmer.stem(word) for word in tokens]\n",
    "    \n",
    "    # Return the cleaned, preprocessed text as a single string\n",
    "    return ' '.join(tokens)\n",
    "\n",
    "# Step 2: Load the Data\n",
    "def load_data(positive_file, negative_file):\n",
    "    with open(positive_file, 'r', encoding='latin-1') as pos_file:\n",
    "        positive_snippets = pos_file.readlines()\n",
    "\n",
    "    with open(negative_file, 'r', encoding='latin-1') as neg_file:\n",
    "        negative_snippets = neg_file.readlines()\n",
    "    \n",
    "    return positive_snippets, negative_snippets\n",
    "\n",
    "# Load the dataset files\n",
    "\n",
    "positive_file = os.path.join(file_path, 'rt-polarity.pos')\n",
    "negative_file = os.path.join(file_path, 'rt-polarity.neg')\n",
    "\n",
    "positive_snippets, negative_snippets = load_data(positive_file, negative_file)\n",
    "\n",
    "# Step 3: Apply Preprocessing\n",
    "positive_snippets = [preprocess_text(snippet) for snippet in positive_snippets]\n",
    "negative_snippets = [preprocess_text(snippet) for snippet in negative_snippets]\n",
    "\n",
    "# # Combine data into training/validation/test sets as needed\n",
    "# X_train = positive_snippets_preprocessed[:4000] + negative_snippets_preprocessed[:4000]\n",
    "# y_train = [1] * 4000 + [0] * 4000\n",
    "\n",
    "# X_val = positive_snippets_preprocessed[4000:4500] + negative_snippets_preprocessed[4000:4500]\n",
    "# y_val = [1] * 500 + [0] * 500\n",
    "\n",
    "# X_test = positive_snippets_preprocessed[4500:] + negative_snippets_preprocessed[4500:]\n",
    "# y_test = [1] * 831 + [0] * 831\n"
   ]
  },
  {
   "cell_type": "code",
   "execution_count": 6,
   "id": "3490f6c6",
   "metadata": {},
   "outputs": [],
   "source": [
    "# positive_snippets"
   ]
  },
  {
   "cell_type": "code",
   "execution_count": 7,
   "id": "16b99aea",
   "metadata": {},
   "outputs": [
    {
     "name": "stdout",
     "output_type": "stream",
     "text": [
      "Number of sentences in Positive file: 5331\n",
      "\n",
      "First 10 sentences from the Positive file:\n",
      "1. rock destin 21st centuri 's new `` conan `` 's go make splash even greater arnold schwarzenegg jean-claud van damm steven segal\n",
      "2. gorgeous elabor continu `` lord ring `` trilog huge column word adequ describ co-writer/director peter jackson 's expand vision j r r tolkien 's middle-earth\n",
      "3. effect too-tepid biopic\n",
      "4. sometim like go movi fun wasabi good place start\n",
      "5. emerg someth rare issu movi 's honest keenli observ n't feel like one\n",
      "6. film provid great insight neurot mindset comic -- even reach absolut top game\n",
      "7. offer rare combin entertain educ\n",
      "8. perhap pictur ever made liter show road hell pave good intent\n",
      "9. steer turn snappi screenplay curl edg 's clever want hate somehow pull\n",
      "10. take care cat offer refreshingli differ slice asian cinema\n",
      "\n",
      "Number of sentences in Negative file: 5331\n",
      "\n",
      "First 10 sentences from the Negative file:\n",
      "1. simplist silli tediou\n",
      "2. 's laddish juvenil teenag boy could possibl find funni\n",
      "3. exploit larg devoid depth sophist would make watch graphic treatment crime bearabl\n",
      "4. garbu discard potenti patholog studi exhum instead skew melodrama circumstanti situat\n",
      "5. visual flashi narr opaqu emot vapid exercis style mystif\n",
      "6. stori also unorigin come alreadi recycl time 'd care count\n",
      "7. thing give movi point bravado -- take entir stale concept push audienc 's meat grinder one time\n",
      "8. much farcic sour\n",
      "9. unfortun stori actor serv hack script\n",
      "10. disquiet rel gore-fre allus serial murder fall attempt human subject\n",
      "\n"
     ]
    }
   ],
   "source": [
    "def print_snippet_info(snippets, label):\n",
    "    sentence_count = len(snippets)  # Count number of sentences\n",
    "    print(f\"Number of sentences in {label} file: {sentence_count}\\n\")\n",
    "    \n",
    "    print(f\"First 10 sentences from the {label} file:\")\n",
    "    for i, sentence in enumerate(snippets[:10]):  # Print the first 10 sentences\n",
    "        print(f\"{i+1}. {sentence.strip()}\")\n",
    "    print()  # Add a blank line for readability\n",
    "\n",
    "# Print information for positive and negative snippets\n",
    "print_snippet_info(positive_snippets, \"Positive\")\n",
    "print_snippet_info(negative_snippets, \"Negative\")"
   ]
  },
  {
   "cell_type": "code",
   "execution_count": 8,
   "id": "c96a4518",
   "metadata": {},
   "outputs": [],
   "source": [
    "# Step 3: Split the data into train, validation, and test sets\n",
    "def create_splits(pos_snippets, neg_snippets):\n",
    "    # Create training set\n",
    "    train_pos = pos_snippets[:4000]\n",
    "    train_neg = neg_snippets[:4000]\n",
    "    \n",
    "    # Create validation set\n",
    "    val_pos = pos_snippets[4000:4500]\n",
    "    val_neg = neg_snippets[4000:4500]\n",
    "    \n",
    "    # Create test set\n",
    "    test_pos = pos_snippets[4500:]\n",
    "    test_neg = neg_snippets[4500:]\n",
    "    \n",
    "    # Combine and label the sets (1 for positive, 0 for negative)\n",
    "    train_data = [(snippet.strip(), 1) for snippet in train_pos] + [(snippet.strip(), 0) for snippet in train_neg]\n",
    "    val_data = [(snippet.strip(), 1) for snippet in val_pos] + [(snippet.strip(), 0) for snippet in val_neg]\n",
    "    test_data = [(snippet.strip(), 1) for snippet in test_pos] + [(snippet.strip(), 0) for snippet in test_neg]\n",
    "    \n",
    "    return train_data, val_data, test_data\n",
    "\n",
    "train_data, val_data, test_data = create_splits(positive_snippets, negative_snippets)"
   ]
  },
  {
   "cell_type": "code",
   "execution_count": 9,
   "id": "76a7e1a7",
   "metadata": {},
   "outputs": [
    {
     "name": "stdout",
     "output_type": "stream",
     "text": [
      "(\"rock destin 21st centuri 's new `` conan `` 's go make splash even greater arnold schwarzenegg jean-claud van damm steven segal\", 1)\n",
      "(\"gorgeous elabor continu `` lord ring `` trilog huge column word adequ describ co-writer/director peter jackson 's expand vision j r r tolkien 's middle-earth\", 1)\n",
      "('effect too-tepid biopic', 1)\n",
      "('sometim like go movi fun wasabi good place start', 1)\n",
      "(\"emerg someth rare issu movi 's honest keenli observ n't feel like one\", 1)\n",
      "('film provid great insight neurot mindset comic -- even reach absolut top game', 1)\n",
      "('offer rare combin entertain educ', 1)\n"
     ]
    }
   ],
   "source": [
    "#print train data\n",
    "for i,data in enumerate(train_data):\n",
    "    print(data)\n",
    "    if(i>5):\n",
    "        break"
   ]
  },
  {
   "cell_type": "code",
   "execution_count": 10,
   "id": "450cffe0",
   "metadata": {},
   "outputs": [
    {
     "data": {
      "text/html": [
       "<style>#sk-container-id-1 {color: black;background-color: white;}#sk-container-id-1 pre{padding: 0;}#sk-container-id-1 div.sk-toggleable {background-color: white;}#sk-container-id-1 label.sk-toggleable__label {cursor: pointer;display: block;width: 100%;margin-bottom: 0;padding: 0.3em;box-sizing: border-box;text-align: center;}#sk-container-id-1 label.sk-toggleable__label-arrow:before {content: \"▸\";float: left;margin-right: 0.25em;color: #696969;}#sk-container-id-1 label.sk-toggleable__label-arrow:hover:before {color: black;}#sk-container-id-1 div.sk-estimator:hover label.sk-toggleable__label-arrow:before {color: black;}#sk-container-id-1 div.sk-toggleable__content {max-height: 0;max-width: 0;overflow: hidden;text-align: left;background-color: #f0f8ff;}#sk-container-id-1 div.sk-toggleable__content pre {margin: 0.2em;color: black;border-radius: 0.25em;background-color: #f0f8ff;}#sk-container-id-1 input.sk-toggleable__control:checked~div.sk-toggleable__content {max-height: 200px;max-width: 100%;overflow: auto;}#sk-container-id-1 input.sk-toggleable__control:checked~label.sk-toggleable__label-arrow:before {content: \"▾\";}#sk-container-id-1 div.sk-estimator input.sk-toggleable__control:checked~label.sk-toggleable__label {background-color: #d4ebff;}#sk-container-id-1 div.sk-label input.sk-toggleable__control:checked~label.sk-toggleable__label {background-color: #d4ebff;}#sk-container-id-1 input.sk-hidden--visually {border: 0;clip: rect(1px 1px 1px 1px);clip: rect(1px, 1px, 1px, 1px);height: 1px;margin: -1px;overflow: hidden;padding: 0;position: absolute;width: 1px;}#sk-container-id-1 div.sk-estimator {font-family: monospace;background-color: #f0f8ff;border: 1px dotted black;border-radius: 0.25em;box-sizing: border-box;margin-bottom: 0.5em;}#sk-container-id-1 div.sk-estimator:hover {background-color: #d4ebff;}#sk-container-id-1 div.sk-parallel-item::after {content: \"\";width: 100%;border-bottom: 1px solid gray;flex-grow: 1;}#sk-container-id-1 div.sk-label:hover label.sk-toggleable__label {background-color: #d4ebff;}#sk-container-id-1 div.sk-serial::before {content: \"\";position: absolute;border-left: 1px solid gray;box-sizing: border-box;top: 0;bottom: 0;left: 50%;z-index: 0;}#sk-container-id-1 div.sk-serial {display: flex;flex-direction: column;align-items: center;background-color: white;padding-right: 0.2em;padding-left: 0.2em;position: relative;}#sk-container-id-1 div.sk-item {position: relative;z-index: 1;}#sk-container-id-1 div.sk-parallel {display: flex;align-items: stretch;justify-content: center;background-color: white;position: relative;}#sk-container-id-1 div.sk-item::before, #sk-container-id-1 div.sk-parallel-item::before {content: \"\";position: absolute;border-left: 1px solid gray;box-sizing: border-box;top: 0;bottom: 0;left: 50%;z-index: -1;}#sk-container-id-1 div.sk-parallel-item {display: flex;flex-direction: column;z-index: 1;position: relative;background-color: white;}#sk-container-id-1 div.sk-parallel-item:first-child::after {align-self: flex-end;width: 50%;}#sk-container-id-1 div.sk-parallel-item:last-child::after {align-self: flex-start;width: 50%;}#sk-container-id-1 div.sk-parallel-item:only-child::after {width: 0;}#sk-container-id-1 div.sk-dashed-wrapped {border: 1px dashed gray;margin: 0 0.4em 0.5em 0.4em;box-sizing: border-box;padding-bottom: 0.4em;background-color: white;}#sk-container-id-1 div.sk-label label {font-family: monospace;font-weight: bold;display: inline-block;line-height: 1.2em;}#sk-container-id-1 div.sk-label-container {text-align: center;}#sk-container-id-1 div.sk-container {/* jupyter's `normalize.less` sets `[hidden] { display: none; }` but bootstrap.min.css set `[hidden] { display: none !important; }` so we also need the `!important` here to be able to override the default hidden behavior on the sphinx rendered scikit-learn.org. See: https://github.com/scikit-learn/scikit-learn/issues/21755 */display: inline-block !important;position: relative;}#sk-container-id-1 div.sk-text-repr-fallback {display: none;}</style><div id=\"sk-container-id-1\" class=\"sk-top-container\"><div class=\"sk-text-repr-fallback\"><pre>MultinomialNB()</pre><b>In a Jupyter environment, please rerun this cell to show the HTML representation or trust the notebook. <br />On GitHub, the HTML representation is unable to render, please try loading this page with nbviewer.org.</b></div><div class=\"sk-container\" hidden><div class=\"sk-item\"><div class=\"sk-estimator sk-toggleable\"><input class=\"sk-toggleable__control sk-hidden--visually\" id=\"sk-estimator-id-1\" type=\"checkbox\" checked><label for=\"sk-estimator-id-1\" class=\"sk-toggleable__label sk-toggleable__label-arrow\">MultinomialNB</label><div class=\"sk-toggleable__content\"><pre>MultinomialNB()</pre></div></div></div></div></div>"
      ],
      "text/plain": [
       "MultinomialNB()"
      ]
     },
     "execution_count": 10,
     "metadata": {},
     "output_type": "execute_result"
    }
   ],
   "source": [
    "# Step 4: Prepare data for model (Bag of Words)\n",
    "def prepare_data(data):\n",
    "    snippets, labels = zip(*data)\n",
    "    return list(snippets), list(labels)\n",
    "\n",
    "X_train, y_train = prepare_data(train_data)\n",
    "X_val, y_val = prepare_data(val_data)\n",
    "X_test, y_test = prepare_data(test_data)\n",
    "\n",
    "# Convert text to numerical features using CountVectorizer (Bag of Words)\n",
    "vectorizer = CountVectorizer()\n",
    "\n",
    "X_train_counts = vectorizer.fit_transform(X_train)\n",
    "X_val_counts = vectorizer.transform(X_val)\n",
    "X_test_counts = vectorizer.transform(X_test)\n",
    "\n",
    "# Step 5: Train a Naive Bayes Classifier\n",
    "clf = MultinomialNB()\n",
    "clf.fit(X_train_counts, y_train)"
   ]
  },
  {
   "cell_type": "code",
   "execution_count": 11,
   "id": "61f1a972",
   "metadata": {},
   "outputs": [],
   "source": [
    "# print(f\"Number of words in the Vocabulary {len(vectorizer.vocabulary_)}\")\n",
    "# print(vectorizer.vocabulary_)\n"
   ]
  },
  {
   "cell_type": "code",
   "execution_count": 12,
   "id": "d3b8ee92",
   "metadata": {},
   "outputs": [
    {
     "name": "stdout",
     "output_type": "stream",
     "text": [
      "Total vectors in training set 8000\n",
      "Dimension of each vector 11539\n",
      "[[0 0 0 ... 0 0 0]\n",
      " [0 0 0 ... 0 0 0]\n",
      " [0 0 0 ... 0 0 0]\n",
      " ...\n",
      " [0 0 0 ... 0 0 0]\n",
      " [0 0 0 ... 0 0 0]\n",
      " [0 0 0 ... 0 0 0]]\n"
     ]
    }
   ],
   "source": [
    "print(f\"Total vectors in training set {len(X_train_counts.toarray())}\")\n",
    "print(f\"Dimension of each vector {len(X_train_counts.toarray()[0])}\")\n",
    "\n",
    "print(X_train_counts.toarray())"
   ]
  },
  {
   "cell_type": "code",
   "execution_count": 13,
   "id": "848025d4",
   "metadata": {},
   "outputs": [],
   "source": [
    "\n",
    "def plot_confusion_matrix(cm):\n",
    "    plt.figure(figsize=(6,4))\n",
    "    sns.heatmap(cm, annot=True, fmt=\"d\", cmap=\"Blues\", xticklabels=[\"Negative\", \"Positive\"], yticklabels=[\"Negative\", \"Positive\"])\n",
    "    plt.xlabel(\"Predicted Label\")\n",
    "    plt.ylabel(\"True Label\")\n",
    "    plt.title(\"Confusion Matrix\")\n",
    "    plt.show()\n",
    "    \n",
    "def evaluate_model(y_true, y_pred):\n",
    "    # Calculate precision, recall, and F1 score\n",
    "    precision = precision_score(y_true, y_pred)\n",
    "    recall = recall_score(y_true, y_pred)\n",
    "    f1 = f1_score(y_true, y_pred)\n",
    "\n",
    "    # Compute confusion matrix\n",
    "    cm = confusion_matrix(y_true, y_pred)\n",
    "    tn, fp, fn, tp = cm.ravel()\n",
    "\n",
    "    # Print evaluation metrics\n",
    "   \n",
    "    print(f\"True Positives (TP): {tp}\")\n",
    "    print(f\"True Negatives (TN): {tn}\")\n",
    "    print(f\"False Positives (FP): {fp}\")\n",
    "    print(f\"False Negatives (FN): {fn}\")\n",
    "    print(f\"Precision: {precision:.2f}\")\n",
    "    print(f\"Recall: {recall:.2f}\")\n",
    "    print(f\"F1-Score: {f1:.2f}\")\n",
    "\n",
    "    # Plot confusion matrix\n",
    "    plot_confusion_matrix(cm)"
   ]
  },
  {
   "cell_type": "code",
   "execution_count": 14,
   "id": "31c98080",
   "metadata": {},
   "outputs": [
    {
     "name": "stdout",
     "output_type": "stream",
     "text": [
      "\n",
      "Model 1: Using Naive Bayes Classifier and Bag of words feature extraction technique\n",
      "\n",
      "Validation Set Evaluation:\n",
      "True Positives (TP): 383\n",
      "True Negatives (TN): 386\n",
      "False Positives (FP): 114\n",
      "False Negatives (FN): 117\n",
      "Precision: 0.77\n",
      "Recall: 0.77\n",
      "F1-Score: 0.77\n"
     ]
    },
    {
     "data": {
      "image/png": "[encoded data removed]",
      "text/plain": [
       "<Figure size 600x400 with 2 Axes>"
      ]
     },
     "metadata": {},
     "output_type": "display_data"
    },
    {
     "name": "stdout",
     "output_type": "stream",
     "text": [
      "\n",
      "Test Set Evaluation:\n",
      "True Positives (TP): 630\n",
      "True Negatives (TN): 652\n",
      "False Positives (FP): 179\n",
      "False Negatives (FN): 201\n",
      "Precision: 0.78\n",
      "Recall: 0.76\n",
      "F1-Score: 0.77\n"
     ]
    },
    {
     "data": {
      "image/png": "[encoded data removed]",
      "text/plain": [
       "<Figure size 600x400 with 2 Axes>"
      ]
     },
     "metadata": {},
     "output_type": "display_data"
    }
   ],
   "source": [
    "# Step 6: Validate the Model\n",
    "y_val_pred = clf.predict(X_val_counts)\n",
    "\n",
    "# Step 7: Evaluate the Model (on Validation Set)\n",
    "\n",
    "\n",
    "print(\"\\nModel 1: Using Naive Bayes Classifier and Bag of words feature extraction technique\\n\")\n",
    "print(f\"Validation Set Evaluation:\")\n",
    "evaluate_model(y_val,y_val_pred)\n",
    "# Step 8: Test the Model (Final Test Evaluation)\n",
    "y_test_pred = clf.predict(X_test_counts)\n",
    "\n",
    "print(\"\\nTest Set Evaluation:\")\n",
    "evaluate_model(y_test,y_test_pred)\n"
   ]
  }
 ],
 "metadata": {
  "kernelspec": {
   "display_name": "Python 3 (ipykernel)",
   "language": "python",
   "name": "python3"
  },
  "language_info": {
   "codemirror_mode": {
    "name": "ipython",
    "version": 3
   },
   "file_extension": ".py",
   "mimetype": "text/x-python",
   "name": "python",
   "nbconvert_exporter": "python",
   "pygments_lexer": "ipython3",
   "version": "3.9.13"
  }
 },
 "nbformat": 4,
 "nbformat_minor": 5
}
